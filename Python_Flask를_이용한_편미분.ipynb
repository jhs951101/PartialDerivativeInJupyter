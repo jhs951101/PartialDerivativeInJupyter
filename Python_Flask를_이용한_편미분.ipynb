{
  "cells": [
    {
      "cell_type": "code",
      "execution_count": null,
      "metadata": {
        "id": "WAUJ4O1-qdLX"
      },
      "outputs": [],
      "source": [
        "!pip install flask-ngrok"
      ]
    },
    {
      "cell_type": "code",
      "execution_count": null,
      "metadata": {
        "id": "mlF1-v9hHnLo"
      },
      "outputs": [],
      "source": [
        "import io\n",
        "from flask_ngrok import run_with_ngrok\n",
        "from flask import Flask, jsonify, request\n",
        "from sympy import symbols, diff\n",
        "\n",
        "app = Flask(__name__)\n",
        "\n",
        "@app.route('/')\n",
        "def partdiff():\n",
        "    if request.method == 'GET':\n",
        "        try:\n",
        "            XValue = request.args.get('x', '0');\n",
        "            YValue = request.args.get('y', '0');\n",
        "            ZValue = request.args.get('z', '0');\n",
        "            \n",
        "            x, y, z = symbols('x y z', imaginary=True);\n",
        "            f = 4*x*y + x*z + x**3 + z**8*y;\n",
        "            dfdx = diff(f,x);\n",
        "            ret = dfdx.subs({x: int(XValue) , y: int(YValue) , z: int(ZValue) });\n",
        "\n",
        "            #print(dfdx, type(dfdx));\n",
        "            #print(ret, type(ret));\n",
        "            return jsonify({'error': False, 'ret': int(ret), 'dfdx': str(dfdx)});\n",
        "\n",
        "        except:\n",
        "            return jsonify({'error': True});\n",
        "    else:\n",
        "        return jsonify({'error': True});"
      ]
    },
    {
      "cell_type": "markdown",
      "source": [
        "* 사용 방법\n",
        "\n",
        "<pre>\n",
        "http://{맽 밑의 출력문에 뜨는 링크 주소}?x={대입할 x값}&y={대입할 y값}&z={대입할 \bz값}\n",
        "</pre>\n",
        "\n",
        "* 사용 예시\n",
        "\n",
        "<pre>\n",
        "http://c4cdb8de3a35.ngrok.io?x=1&y=2&z=3\n",
        "</pre>"
      ],
      "metadata": {
        "id": "qqsTQw5ktHDs"
      }
    },
    {
      "cell_type": "code",
      "execution_count": null,
      "metadata": {
        "id": "0IoiZe7nuN9j"
      },
      "outputs": [],
      "source": [
        "run_with_ngrok(app)\n",
        "app.run()"
      ]
    }
  ],
  "metadata": {
    "accelerator": "GPU",
    "colab": {
      "provenance": []
    },
    "kernelspec": {
      "display_name": "Python 3",
      "name": "python3"
    }
  },
  "nbformat": 4,
  "nbformat_minor": 0
}